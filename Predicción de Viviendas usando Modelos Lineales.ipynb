{
  "nbformat": 4,
  "nbformat_minor": 0,
  "metadata": {
    "colab": {
      "name": "Proyecto Investigación 1.ipynb",
      "provenance": [],
      "collapsed_sections": [],
      "authorship_tag": "ABX9TyPmJULwslDphEYLU4xDclhS",
      "include_colab_link": true
    },
    "kernelspec": {
      "name": "python3",
      "display_name": "Python 3"
    },
    "language_info": {
      "name": "python"
    }
  },
  "cells": [
    {
      "cell_type": "markdown",
      "metadata": {
        "id": "view-in-github",
        "colab_type": "text"
      },
      "source": [
        "<a href=\"https://colab.research.google.com/github/AlexRoman938/California_Housing_ML_Course/blob/main/Predicci%C3%B3n%20de%20Viviendas%20usando%20Modelos%20Lineales.ipynb\" target=\"_parent\"><img src=\"https://colab.research.google.com/assets/colab-badge.svg\" alt=\"Open In Colab\"/></a>"
      ]
    },
    {
      "cell_type": "code",
      "execution_count": null,
      "metadata": {
        "id": "KRQ83mO84VVe"
      },
      "outputs": [],
      "source": [
        "import pandas as pd\n",
        "import matplotlib.pyplot as plt\n",
        "import seaborn as sns"
      ]
    },
    {
      "cell_type": "code",
      "source": [
        "sns.set_style(\"darkgrid\")"
      ],
      "metadata": {
        "id": "-d2PaNPjKUTi"
      },
      "execution_count": null,
      "outputs": []
    },
    {
      "cell_type": "code",
      "source": [
        "df_housing = pd.read_csv('https://raw.githubusercontent.com/ageron/handson-ml/master/datasets/housing/housing.csv')\n",
        "df_housing #ver dataset"
      ],
      "metadata": {
        "colab": {
          "base_uri": "https://localhost:8080/",
          "height": 424
        },
        "id": "6aJ0_R0t6MTG",
        "outputId": "56fda90c-24fe-4b3d-f7cc-1e91e5aad771"
      },
      "execution_count": null,
      "outputs": [
        {
          "output_type": "execute_result",
          "data": {
            "text/plain": [
              "       longitude  latitude  housing_median_age  total_rooms  total_bedrooms  \\\n",
              "0        -122.23     37.88                41.0        880.0           129.0   \n",
              "1        -122.22     37.86                21.0       7099.0          1106.0   \n",
              "2        -122.24     37.85                52.0       1467.0           190.0   \n",
              "3        -122.25     37.85                52.0       1274.0           235.0   \n",
              "4        -122.25     37.85                52.0       1627.0           280.0   \n",
              "...          ...       ...                 ...          ...             ...   \n",
              "20635    -121.09     39.48                25.0       1665.0           374.0   \n",
              "20636    -121.21     39.49                18.0        697.0           150.0   \n",
              "20637    -121.22     39.43                17.0       2254.0           485.0   \n",
              "20638    -121.32     39.43                18.0       1860.0           409.0   \n",
              "20639    -121.24     39.37                16.0       2785.0           616.0   \n",
              "\n",
              "       population  households  median_income  median_house_value  \\\n",
              "0           322.0       126.0         8.3252            452600.0   \n",
              "1          2401.0      1138.0         8.3014            358500.0   \n",
              "2           496.0       177.0         7.2574            352100.0   \n",
              "3           558.0       219.0         5.6431            341300.0   \n",
              "4           565.0       259.0         3.8462            342200.0   \n",
              "...           ...         ...            ...                 ...   \n",
              "20635       845.0       330.0         1.5603             78100.0   \n",
              "20636       356.0       114.0         2.5568             77100.0   \n",
              "20637      1007.0       433.0         1.7000             92300.0   \n",
              "20638       741.0       349.0         1.8672             84700.0   \n",
              "20639      1387.0       530.0         2.3886             89400.0   \n",
              "\n",
              "      ocean_proximity  \n",
              "0            NEAR BAY  \n",
              "1            NEAR BAY  \n",
              "2            NEAR BAY  \n",
              "3            NEAR BAY  \n",
              "4            NEAR BAY  \n",
              "...               ...  \n",
              "20635          INLAND  \n",
              "20636          INLAND  \n",
              "20637          INLAND  \n",
              "20638          INLAND  \n",
              "20639          INLAND  \n",
              "\n",
              "[20640 rows x 10 columns]"
            ],
            "text/html": [
              "\n",
              "  <div id=\"df-3e32554b-a986-44a3-96d0-c3e2e64efea9\">\n",
              "    <div class=\"colab-df-container\">\n",
              "      <div>\n",
              "<style scoped>\n",
              "    .dataframe tbody tr th:only-of-type {\n",
              "        vertical-align: middle;\n",
              "    }\n",
              "\n",
              "    .dataframe tbody tr th {\n",
              "        vertical-align: top;\n",
              "    }\n",
              "\n",
              "    .dataframe thead th {\n",
              "        text-align: right;\n",
              "    }\n",
              "</style>\n",
              "<table border=\"1\" class=\"dataframe\">\n",
              "  <thead>\n",
              "    <tr style=\"text-align: right;\">\n",
              "      <th></th>\n",
              "      <th>longitude</th>\n",
              "      <th>latitude</th>\n",
              "      <th>housing_median_age</th>\n",
              "      <th>total_rooms</th>\n",
              "      <th>total_bedrooms</th>\n",
              "      <th>population</th>\n",
              "      <th>households</th>\n",
              "      <th>median_income</th>\n",
              "      <th>median_house_value</th>\n",
              "      <th>ocean_proximity</th>\n",
              "    </tr>\n",
              "  </thead>\n",
              "  <tbody>\n",
              "    <tr>\n",
              "      <th>0</th>\n",
              "      <td>-122.23</td>\n",
              "      <td>37.88</td>\n",
              "      <td>41.0</td>\n",
              "      <td>880.0</td>\n",
              "      <td>129.0</td>\n",
              "      <td>322.0</td>\n",
              "      <td>126.0</td>\n",
              "      <td>8.3252</td>\n",
              "      <td>452600.0</td>\n",
              "      <td>NEAR BAY</td>\n",
              "    </tr>\n",
              "    <tr>\n",
              "      <th>1</th>\n",
              "      <td>-122.22</td>\n",
              "      <td>37.86</td>\n",
              "      <td>21.0</td>\n",
              "      <td>7099.0</td>\n",
              "      <td>1106.0</td>\n",
              "      <td>2401.0</td>\n",
              "      <td>1138.0</td>\n",
              "      <td>8.3014</td>\n",
              "      <td>358500.0</td>\n",
              "      <td>NEAR BAY</td>\n",
              "    </tr>\n",
              "    <tr>\n",
              "      <th>2</th>\n",
              "      <td>-122.24</td>\n",
              "      <td>37.85</td>\n",
              "      <td>52.0</td>\n",
              "      <td>1467.0</td>\n",
              "      <td>190.0</td>\n",
              "      <td>496.0</td>\n",
              "      <td>177.0</td>\n",
              "      <td>7.2574</td>\n",
              "      <td>352100.0</td>\n",
              "      <td>NEAR BAY</td>\n",
              "    </tr>\n",
              "    <tr>\n",
              "      <th>3</th>\n",
              "      <td>-122.25</td>\n",
              "      <td>37.85</td>\n",
              "      <td>52.0</td>\n",
              "      <td>1274.0</td>\n",
              "      <td>235.0</td>\n",
              "      <td>558.0</td>\n",
              "      <td>219.0</td>\n",
              "      <td>5.6431</td>\n",
              "      <td>341300.0</td>\n",
              "      <td>NEAR BAY</td>\n",
              "    </tr>\n",
              "    <tr>\n",
              "      <th>4</th>\n",
              "      <td>-122.25</td>\n",
              "      <td>37.85</td>\n",
              "      <td>52.0</td>\n",
              "      <td>1627.0</td>\n",
              "      <td>280.0</td>\n",
              "      <td>565.0</td>\n",
              "      <td>259.0</td>\n",
              "      <td>3.8462</td>\n",
              "      <td>342200.0</td>\n",
              "      <td>NEAR BAY</td>\n",
              "    </tr>\n",
              "    <tr>\n",
              "      <th>...</th>\n",
              "      <td>...</td>\n",
              "      <td>...</td>\n",
              "      <td>...</td>\n",
              "      <td>...</td>\n",
              "      <td>...</td>\n",
              "      <td>...</td>\n",
              "      <td>...</td>\n",
              "      <td>...</td>\n",
              "      <td>...</td>\n",
              "      <td>...</td>\n",
              "    </tr>\n",
              "    <tr>\n",
              "      <th>20635</th>\n",
              "      <td>-121.09</td>\n",
              "      <td>39.48</td>\n",
              "      <td>25.0</td>\n",
              "      <td>1665.0</td>\n",
              "      <td>374.0</td>\n",
              "      <td>845.0</td>\n",
              "      <td>330.0</td>\n",
              "      <td>1.5603</td>\n",
              "      <td>78100.0</td>\n",
              "      <td>INLAND</td>\n",
              "    </tr>\n",
              "    <tr>\n",
              "      <th>20636</th>\n",
              "      <td>-121.21</td>\n",
              "      <td>39.49</td>\n",
              "      <td>18.0</td>\n",
              "      <td>697.0</td>\n",
              "      <td>150.0</td>\n",
              "      <td>356.0</td>\n",
              "      <td>114.0</td>\n",
              "      <td>2.5568</td>\n",
              "      <td>77100.0</td>\n",
              "      <td>INLAND</td>\n",
              "    </tr>\n",
              "    <tr>\n",
              "      <th>20637</th>\n",
              "      <td>-121.22</td>\n",
              "      <td>39.43</td>\n",
              "      <td>17.0</td>\n",
              "      <td>2254.0</td>\n",
              "      <td>485.0</td>\n",
              "      <td>1007.0</td>\n",
              "      <td>433.0</td>\n",
              "      <td>1.7000</td>\n",
              "      <td>92300.0</td>\n",
              "      <td>INLAND</td>\n",
              "    </tr>\n",
              "    <tr>\n",
              "      <th>20638</th>\n",
              "      <td>-121.32</td>\n",
              "      <td>39.43</td>\n",
              "      <td>18.0</td>\n",
              "      <td>1860.0</td>\n",
              "      <td>409.0</td>\n",
              "      <td>741.0</td>\n",
              "      <td>349.0</td>\n",
              "      <td>1.8672</td>\n",
              "      <td>84700.0</td>\n",
              "      <td>INLAND</td>\n",
              "    </tr>\n",
              "    <tr>\n",
              "      <th>20639</th>\n",
              "      <td>-121.24</td>\n",
              "      <td>39.37</td>\n",
              "      <td>16.0</td>\n",
              "      <td>2785.0</td>\n",
              "      <td>616.0</td>\n",
              "      <td>1387.0</td>\n",
              "      <td>530.0</td>\n",
              "      <td>2.3886</td>\n",
              "      <td>89400.0</td>\n",
              "      <td>INLAND</td>\n",
              "    </tr>\n",
              "  </tbody>\n",
              "</table>\n",
              "<p>20640 rows × 10 columns</p>\n",
              "</div>\n",
              "      <button class=\"colab-df-convert\" onclick=\"convertToInteractive('df-3e32554b-a986-44a3-96d0-c3e2e64efea9')\"\n",
              "              title=\"Convert this dataframe to an interactive table.\"\n",
              "              style=\"display:none;\">\n",
              "        \n",
              "  <svg xmlns=\"http://www.w3.org/2000/svg\" height=\"24px\"viewBox=\"0 0 24 24\"\n",
              "       width=\"24px\">\n",
              "    <path d=\"M0 0h24v24H0V0z\" fill=\"none\"/>\n",
              "    <path d=\"M18.56 5.44l.94 2.06.94-2.06 2.06-.94-2.06-.94-.94-2.06-.94 2.06-2.06.94zm-11 1L8.5 8.5l.94-2.06 2.06-.94-2.06-.94L8.5 2.5l-.94 2.06-2.06.94zm10 10l.94 2.06.94-2.06 2.06-.94-2.06-.94-.94-2.06-.94 2.06-2.06.94z\"/><path d=\"M17.41 7.96l-1.37-1.37c-.4-.4-.92-.59-1.43-.59-.52 0-1.04.2-1.43.59L10.3 9.45l-7.72 7.72c-.78.78-.78 2.05 0 2.83L4 21.41c.39.39.9.59 1.41.59.51 0 1.02-.2 1.41-.59l7.78-7.78 2.81-2.81c.8-.78.8-2.07 0-2.86zM5.41 20L4 18.59l7.72-7.72 1.47 1.35L5.41 20z\"/>\n",
              "  </svg>\n",
              "      </button>\n",
              "      \n",
              "  <style>\n",
              "    .colab-df-container {\n",
              "      display:flex;\n",
              "      flex-wrap:wrap;\n",
              "      gap: 12px;\n",
              "    }\n",
              "\n",
              "    .colab-df-convert {\n",
              "      background-color: #E8F0FE;\n",
              "      border: none;\n",
              "      border-radius: 50%;\n",
              "      cursor: pointer;\n",
              "      display: none;\n",
              "      fill: #1967D2;\n",
              "      height: 32px;\n",
              "      padding: 0 0 0 0;\n",
              "      width: 32px;\n",
              "    }\n",
              "\n",
              "    .colab-df-convert:hover {\n",
              "      background-color: #E2EBFA;\n",
              "      box-shadow: 0px 1px 2px rgba(60, 64, 67, 0.3), 0px 1px 3px 1px rgba(60, 64, 67, 0.15);\n",
              "      fill: #174EA6;\n",
              "    }\n",
              "\n",
              "    [theme=dark] .colab-df-convert {\n",
              "      background-color: #3B4455;\n",
              "      fill: #D2E3FC;\n",
              "    }\n",
              "\n",
              "    [theme=dark] .colab-df-convert:hover {\n",
              "      background-color: #434B5C;\n",
              "      box-shadow: 0px 1px 3px 1px rgba(0, 0, 0, 0.15);\n",
              "      filter: drop-shadow(0px 1px 2px rgba(0, 0, 0, 0.3));\n",
              "      fill: #FFFFFF;\n",
              "    }\n",
              "  </style>\n",
              "\n",
              "      <script>\n",
              "        const buttonEl =\n",
              "          document.querySelector('#df-3e32554b-a986-44a3-96d0-c3e2e64efea9 button.colab-df-convert');\n",
              "        buttonEl.style.display =\n",
              "          google.colab.kernel.accessAllowed ? 'block' : 'none';\n",
              "\n",
              "        async function convertToInteractive(key) {\n",
              "          const element = document.querySelector('#df-3e32554b-a986-44a3-96d0-c3e2e64efea9');\n",
              "          const dataTable =\n",
              "            await google.colab.kernel.invokeFunction('convertToInteractive',\n",
              "                                                     [key], {});\n",
              "          if (!dataTable) return;\n",
              "\n",
              "          const docLinkHtml = 'Like what you see? Visit the ' +\n",
              "            '<a target=\"_blank\" href=https://colab.research.google.com/notebooks/data_table.ipynb>data table notebook</a>'\n",
              "            + ' to learn more about interactive tables.';\n",
              "          element.innerHTML = '';\n",
              "          dataTable['output_type'] = 'display_data';\n",
              "          await google.colab.output.renderOutput(dataTable, element);\n",
              "          const docLink = document.createElement('div');\n",
              "          docLink.innerHTML = docLinkHtml;\n",
              "          element.appendChild(docLink);\n",
              "        }\n",
              "      </script>\n",
              "    </div>\n",
              "  </div>\n",
              "  "
            ]
          },
          "metadata": {},
          "execution_count": 5
        }
      ]
    },
    {
      "cell_type": "code",
      "source": [
        "#Ver info del dataset\n",
        "df_housing.info()"
      ],
      "metadata": {
        "colab": {
          "base_uri": "https://localhost:8080/"
        },
        "id": "6DEKMSsM6hbT",
        "outputId": "38f6af0d-f1e9-4531-d2d9-69cedf84c07a"
      },
      "execution_count": null,
      "outputs": [
        {
          "output_type": "stream",
          "name": "stdout",
          "text": [
            "<class 'pandas.core.frame.DataFrame'>\n",
            "RangeIndex: 20640 entries, 0 to 20639\n",
            "Data columns (total 10 columns):\n",
            " #   Column              Non-Null Count  Dtype  \n",
            "---  ------              --------------  -----  \n",
            " 0   longitude           20640 non-null  float64\n",
            " 1   latitude            20640 non-null  float64\n",
            " 2   housing_median_age  20640 non-null  float64\n",
            " 3   total_rooms         20640 non-null  float64\n",
            " 4   total_bedrooms      20433 non-null  float64\n",
            " 5   population          20640 non-null  float64\n",
            " 6   households          20640 non-null  float64\n",
            " 7   median_income       20640 non-null  float64\n",
            " 8   median_house_value  20640 non-null  float64\n",
            " 9   ocean_proximity     20640 non-null  object \n",
            "dtypes: float64(9), object(1)\n",
            "memory usage: 1.6+ MB\n"
          ]
        }
      ]
    },
    {
      "cell_type": "markdown",
      "source": [
        "Aquí podemos ver que la columna total_bedroms tiene datos nulos"
      ],
      "metadata": {
        "id": "1G4cu8of-HG2"
      }
    },
    {
      "cell_type": "code",
      "source": [
        "df_housing.describe()"
      ],
      "metadata": {
        "colab": {
          "base_uri": "https://localhost:8080/",
          "height": 300
        },
        "id": "z1PFRS036rgF",
        "outputId": "21e6ebab-f467-4b79-d4c4-835f09089715"
      },
      "execution_count": null,
      "outputs": [
        {
          "output_type": "execute_result",
          "data": {
            "text/plain": [
              "          longitude      latitude  housing_median_age   total_rooms  \\\n",
              "count  20640.000000  20640.000000        20640.000000  20640.000000   \n",
              "mean    -119.569704     35.631861           28.639486   2635.763081   \n",
              "std        2.003532      2.135952           12.585558   2181.615252   \n",
              "min     -124.350000     32.540000            1.000000      2.000000   \n",
              "25%     -121.800000     33.930000           18.000000   1447.750000   \n",
              "50%     -118.490000     34.260000           29.000000   2127.000000   \n",
              "75%     -118.010000     37.710000           37.000000   3148.000000   \n",
              "max     -114.310000     41.950000           52.000000  39320.000000   \n",
              "\n",
              "       total_bedrooms    population    households  median_income  \\\n",
              "count    20433.000000  20640.000000  20640.000000   20640.000000   \n",
              "mean       537.870553   1425.476744    499.539680       3.870671   \n",
              "std        421.385070   1132.462122    382.329753       1.899822   \n",
              "min          1.000000      3.000000      1.000000       0.499900   \n",
              "25%        296.000000    787.000000    280.000000       2.563400   \n",
              "50%        435.000000   1166.000000    409.000000       3.534800   \n",
              "75%        647.000000   1725.000000    605.000000       4.743250   \n",
              "max       6445.000000  35682.000000   6082.000000      15.000100   \n",
              "\n",
              "       median_house_value  \n",
              "count        20640.000000  \n",
              "mean        206855.816909  \n",
              "std         115395.615874  \n",
              "min          14999.000000  \n",
              "25%         119600.000000  \n",
              "50%         179700.000000  \n",
              "75%         264725.000000  \n",
              "max         500001.000000  "
            ],
            "text/html": [
              "\n",
              "  <div id=\"df-5277dd96-139e-4826-a006-049a466f38fa\">\n",
              "    <div class=\"colab-df-container\">\n",
              "      <div>\n",
              "<style scoped>\n",
              "    .dataframe tbody tr th:only-of-type {\n",
              "        vertical-align: middle;\n",
              "    }\n",
              "\n",
              "    .dataframe tbody tr th {\n",
              "        vertical-align: top;\n",
              "    }\n",
              "\n",
              "    .dataframe thead th {\n",
              "        text-align: right;\n",
              "    }\n",
              "</style>\n",
              "<table border=\"1\" class=\"dataframe\">\n",
              "  <thead>\n",
              "    <tr style=\"text-align: right;\">\n",
              "      <th></th>\n",
              "      <th>longitude</th>\n",
              "      <th>latitude</th>\n",
              "      <th>housing_median_age</th>\n",
              "      <th>total_rooms</th>\n",
              "      <th>total_bedrooms</th>\n",
              "      <th>population</th>\n",
              "      <th>households</th>\n",
              "      <th>median_income</th>\n",
              "      <th>median_house_value</th>\n",
              "    </tr>\n",
              "  </thead>\n",
              "  <tbody>\n",
              "    <tr>\n",
              "      <th>count</th>\n",
              "      <td>20640.000000</td>\n",
              "      <td>20640.000000</td>\n",
              "      <td>20640.000000</td>\n",
              "      <td>20640.000000</td>\n",
              "      <td>20433.000000</td>\n",
              "      <td>20640.000000</td>\n",
              "      <td>20640.000000</td>\n",
              "      <td>20640.000000</td>\n",
              "      <td>20640.000000</td>\n",
              "    </tr>\n",
              "    <tr>\n",
              "      <th>mean</th>\n",
              "      <td>-119.569704</td>\n",
              "      <td>35.631861</td>\n",
              "      <td>28.639486</td>\n",
              "      <td>2635.763081</td>\n",
              "      <td>537.870553</td>\n",
              "      <td>1425.476744</td>\n",
              "      <td>499.539680</td>\n",
              "      <td>3.870671</td>\n",
              "      <td>206855.816909</td>\n",
              "    </tr>\n",
              "    <tr>\n",
              "      <th>std</th>\n",
              "      <td>2.003532</td>\n",
              "      <td>2.135952</td>\n",
              "      <td>12.585558</td>\n",
              "      <td>2181.615252</td>\n",
              "      <td>421.385070</td>\n",
              "      <td>1132.462122</td>\n",
              "      <td>382.329753</td>\n",
              "      <td>1.899822</td>\n",
              "      <td>115395.615874</td>\n",
              "    </tr>\n",
              "    <tr>\n",
              "      <th>min</th>\n",
              "      <td>-124.350000</td>\n",
              "      <td>32.540000</td>\n",
              "      <td>1.000000</td>\n",
              "      <td>2.000000</td>\n",
              "      <td>1.000000</td>\n",
              "      <td>3.000000</td>\n",
              "      <td>1.000000</td>\n",
              "      <td>0.499900</td>\n",
              "      <td>14999.000000</td>\n",
              "    </tr>\n",
              "    <tr>\n",
              "      <th>25%</th>\n",
              "      <td>-121.800000</td>\n",
              "      <td>33.930000</td>\n",
              "      <td>18.000000</td>\n",
              "      <td>1447.750000</td>\n",
              "      <td>296.000000</td>\n",
              "      <td>787.000000</td>\n",
              "      <td>280.000000</td>\n",
              "      <td>2.563400</td>\n",
              "      <td>119600.000000</td>\n",
              "    </tr>\n",
              "    <tr>\n",
              "      <th>50%</th>\n",
              "      <td>-118.490000</td>\n",
              "      <td>34.260000</td>\n",
              "      <td>29.000000</td>\n",
              "      <td>2127.000000</td>\n",
              "      <td>435.000000</td>\n",
              "      <td>1166.000000</td>\n",
              "      <td>409.000000</td>\n",
              "      <td>3.534800</td>\n",
              "      <td>179700.000000</td>\n",
              "    </tr>\n",
              "    <tr>\n",
              "      <th>75%</th>\n",
              "      <td>-118.010000</td>\n",
              "      <td>37.710000</td>\n",
              "      <td>37.000000</td>\n",
              "      <td>3148.000000</td>\n",
              "      <td>647.000000</td>\n",
              "      <td>1725.000000</td>\n",
              "      <td>605.000000</td>\n",
              "      <td>4.743250</td>\n",
              "      <td>264725.000000</td>\n",
              "    </tr>\n",
              "    <tr>\n",
              "      <th>max</th>\n",
              "      <td>-114.310000</td>\n",
              "      <td>41.950000</td>\n",
              "      <td>52.000000</td>\n",
              "      <td>39320.000000</td>\n",
              "      <td>6445.000000</td>\n",
              "      <td>35682.000000</td>\n",
              "      <td>6082.000000</td>\n",
              "      <td>15.000100</td>\n",
              "      <td>500001.000000</td>\n",
              "    </tr>\n",
              "  </tbody>\n",
              "</table>\n",
              "</div>\n",
              "      <button class=\"colab-df-convert\" onclick=\"convertToInteractive('df-5277dd96-139e-4826-a006-049a466f38fa')\"\n",
              "              title=\"Convert this dataframe to an interactive table.\"\n",
              "              style=\"display:none;\">\n",
              "        \n",
              "  <svg xmlns=\"http://www.w3.org/2000/svg\" height=\"24px\"viewBox=\"0 0 24 24\"\n",
              "       width=\"24px\">\n",
              "    <path d=\"M0 0h24v24H0V0z\" fill=\"none\"/>\n",
              "    <path d=\"M18.56 5.44l.94 2.06.94-2.06 2.06-.94-2.06-.94-.94-2.06-.94 2.06-2.06.94zm-11 1L8.5 8.5l.94-2.06 2.06-.94-2.06-.94L8.5 2.5l-.94 2.06-2.06.94zm10 10l.94 2.06.94-2.06 2.06-.94-2.06-.94-.94-2.06-.94 2.06-2.06.94z\"/><path d=\"M17.41 7.96l-1.37-1.37c-.4-.4-.92-.59-1.43-.59-.52 0-1.04.2-1.43.59L10.3 9.45l-7.72 7.72c-.78.78-.78 2.05 0 2.83L4 21.41c.39.39.9.59 1.41.59.51 0 1.02-.2 1.41-.59l7.78-7.78 2.81-2.81c.8-.78.8-2.07 0-2.86zM5.41 20L4 18.59l7.72-7.72 1.47 1.35L5.41 20z\"/>\n",
              "  </svg>\n",
              "      </button>\n",
              "      \n",
              "  <style>\n",
              "    .colab-df-container {\n",
              "      display:flex;\n",
              "      flex-wrap:wrap;\n",
              "      gap: 12px;\n",
              "    }\n",
              "\n",
              "    .colab-df-convert {\n",
              "      background-color: #E8F0FE;\n",
              "      border: none;\n",
              "      border-radius: 50%;\n",
              "      cursor: pointer;\n",
              "      display: none;\n",
              "      fill: #1967D2;\n",
              "      height: 32px;\n",
              "      padding: 0 0 0 0;\n",
              "      width: 32px;\n",
              "    }\n",
              "\n",
              "    .colab-df-convert:hover {\n",
              "      background-color: #E2EBFA;\n",
              "      box-shadow: 0px 1px 2px rgba(60, 64, 67, 0.3), 0px 1px 3px 1px rgba(60, 64, 67, 0.15);\n",
              "      fill: #174EA6;\n",
              "    }\n",
              "\n",
              "    [theme=dark] .colab-df-convert {\n",
              "      background-color: #3B4455;\n",
              "      fill: #D2E3FC;\n",
              "    }\n",
              "\n",
              "    [theme=dark] .colab-df-convert:hover {\n",
              "      background-color: #434B5C;\n",
              "      box-shadow: 0px 1px 3px 1px rgba(0, 0, 0, 0.15);\n",
              "      filter: drop-shadow(0px 1px 2px rgba(0, 0, 0, 0.3));\n",
              "      fill: #FFFFFF;\n",
              "    }\n",
              "  </style>\n",
              "\n",
              "      <script>\n",
              "        const buttonEl =\n",
              "          document.querySelector('#df-5277dd96-139e-4826-a006-049a466f38fa button.colab-df-convert');\n",
              "        buttonEl.style.display =\n",
              "          google.colab.kernel.accessAllowed ? 'block' : 'none';\n",
              "\n",
              "        async function convertToInteractive(key) {\n",
              "          const element = document.querySelector('#df-5277dd96-139e-4826-a006-049a466f38fa');\n",
              "          const dataTable =\n",
              "            await google.colab.kernel.invokeFunction('convertToInteractive',\n",
              "                                                     [key], {});\n",
              "          if (!dataTable) return;\n",
              "\n",
              "          const docLinkHtml = 'Like what you see? Visit the ' +\n",
              "            '<a target=\"_blank\" href=https://colab.research.google.com/notebooks/data_table.ipynb>data table notebook</a>'\n",
              "            + ' to learn more about interactive tables.';\n",
              "          element.innerHTML = '';\n",
              "          dataTable['output_type'] = 'display_data';\n",
              "          await google.colab.output.renderOutput(dataTable, element);\n",
              "          const docLink = document.createElement('div');\n",
              "          docLink.innerHTML = docLinkHtml;\n",
              "          element.appendChild(docLink);\n",
              "        }\n",
              "      </script>\n",
              "    </div>\n",
              "  </div>\n",
              "  "
            ]
          },
          "metadata": {},
          "execution_count": 7
        }
      ]
    },
    {
      "cell_type": "code",
      "source": [
        "#Ver columnas\n",
        "df_housing.columns"
      ],
      "metadata": {
        "colab": {
          "base_uri": "https://localhost:8080/"
        },
        "id": "nd3vhjU97BTG",
        "outputId": "4d74992c-819c-45f6-fb46-e0132f58fa3f"
      },
      "execution_count": null,
      "outputs": [
        {
          "output_type": "execute_result",
          "data": {
            "text/plain": [
              "Index(['longitude', 'latitude', 'housing_median_age', 'total_rooms',\n",
              "       'total_bedrooms', 'population', 'households', 'median_income',\n",
              "       'median_house_value', 'ocean_proximity'],\n",
              "      dtype='object')"
            ]
          },
          "metadata": {},
          "execution_count": 8
        }
      ]
    },
    {
      "cell_type": "markdown",
      "source": [
        "#Exploración de datos"
      ],
      "metadata": {
        "id": "8YqUXVQy6b57"
      }
    },
    {
      "cell_type": "code",
      "source": [
        "# ¿Existen datos nulos? \n",
        "\n",
        "df_housing.isnull().sum()"
      ],
      "metadata": {
        "colab": {
          "base_uri": "https://localhost:8080/"
        },
        "id": "9t4CmSIlZJFI",
        "outputId": "71b30b5b-fe05-4c86-c446-1ade97f9a835"
      },
      "execution_count": null,
      "outputs": [
        {
          "output_type": "execute_result",
          "data": {
            "text/plain": [
              "longitude               0\n",
              "latitude                0\n",
              "housing_median_age      0\n",
              "total_rooms             0\n",
              "total_bedrooms        207\n",
              "population              0\n",
              "households              0\n",
              "median_income           0\n",
              "median_house_value      0\n",
              "ocean_proximity         0\n",
              "dtype: int64"
            ]
          },
          "metadata": {},
          "execution_count": 24
        }
      ]
    },
    {
      "cell_type": "markdown",
      "source": [
        "En esta sección quiero analizar las variables que creo que pueden afectar a la variable objetivo que es median_house_value."
      ],
      "metadata": {
        "id": "c2j1TuJy8mBf"
      }
    },
    {
      "cell_type": "markdown",
      "source": [
        "##Housing Media Age"
      ],
      "metadata": {
        "id": "00oxP54O7z6O"
      }
    },
    {
      "cell_type": "code",
      "source": [
        "#Ver boxplot, para verificar si tenemos datos outliers\n",
        "plt.figure(figsize=(10,7))\n",
        "sns.boxplot(data = df_housing, y = 'housing_median_age')"
      ],
      "metadata": {
        "colab": {
          "base_uri": "https://localhost:8080/",
          "height": 428
        },
        "id": "qII1V2fO9WBY",
        "outputId": "f9ccfb20-3e04-430c-d90d-57f232e6b99d"
      },
      "execution_count": null,
      "outputs": [
        {
          "output_type": "execute_result",
          "data": {
            "text/plain": [
              "<matplotlib.axes._subplots.AxesSubplot at 0x7fc85d5bd3d0>"
            ]
          },
          "metadata": {},
          "execution_count": 10
        },
        {
          "output_type": "display_data",
          "data": {
            "text/plain": [
              "<Figure size 720x504 with 1 Axes>"
            ],
            "image/png": "[encoded data removed]"
          },
          "metadata": {}
        }
      ]
    },
    {
      "cell_type": "markdown",
      "source": [
        "No hay datos outliers"
      ],
      "metadata": {
        "id": "Dq05tnX59qJs"
      }
    },
    {
      "cell_type": "markdown",
      "source": [
        "## Total rooms"
      ],
      "metadata": {
        "id": "O_SHVg2X9366"
      }
    },
    {
      "cell_type": "code",
      "source": [
        "#Ver boxplot, para verificar si tenemos datos outliers\n",
        "plt.figure(figsize=(8,5))\n",
        "sns.boxplot(data = df_housing, y = 'total_rooms')"
      ],
      "metadata": {
        "colab": {
          "base_uri": "https://localhost:8080/",
          "height": 320
        },
        "id": "Qslb7NJz96go",
        "outputId": "1468a942-78d0-4c2c-a312-8e044ea400ad"
      },
      "execution_count": null,
      "outputs": [
        {
          "output_type": "execute_result",
          "data": {
            "text/plain": [
              "<matplotlib.axes._subplots.AxesSubplot at 0x7fc85d5bdfd0>"
            ]
          },
          "metadata": {},
          "execution_count": 11
        },
        {
          "output_type": "display_data",
          "data": {
            "text/plain": [
              "<Figure size 576x360 with 1 Axes>"
            ],
            "image/png": "[encoded data removed]"
          },
          "metadata": {}
        }
      ]
    },
    {
      "cell_type": "markdown",
      "source": [
        "Podemos observar que existen muchos datos outliers en el gráfico."
      ],
      "metadata": {
        "id": "aKB46_9G-jTj"
      }
    },
    {
      "cell_type": "markdown",
      "source": [
        "## Total Bedrooms"
      ],
      "metadata": {
        "id": "gfKn0IT6-0GW"
      }
    },
    {
      "cell_type": "code",
      "source": [
        "#Como aquí sabemos que existen datos nulos, quiero saber cuantos son\n",
        "\n",
        "df_housing['total_bedrooms'].isnull().sum()"
      ],
      "metadata": {
        "colab": {
          "base_uri": "https://localhost:8080/"
        },
        "id": "buH6KGIQ-izr",
        "outputId": "cb8e83df-442f-4b97-cbb4-2f63a0198ca1"
      },
      "execution_count": null,
      "outputs": [
        {
          "output_type": "execute_result",
          "data": {
            "text/plain": [
              "207"
            ]
          },
          "metadata": {},
          "execution_count": 12
        }
      ]
    },
    {
      "cell_type": "markdown",
      "source": [
        "Tenemos 207 datos nulos"
      ],
      "metadata": {
        "id": "wod3p8O0_Pa2"
      }
    },
    {
      "cell_type": "code",
      "source": [
        "#Ver boxplot, para verificar si tenemos datos outliers\n",
        "plt.figure(figsize=(8,5))\n",
        "sns.boxplot(data = df_housing, y = 'total_bedrooms')"
      ],
      "metadata": {
        "colab": {
          "base_uri": "https://localhost:8080/",
          "height": 320
        },
        "id": "zbRK2J7y96my",
        "outputId": "5056e4d5-1f88-4dd7-ad71-cf5265c63072"
      },
      "execution_count": null,
      "outputs": [
        {
          "output_type": "execute_result",
          "data": {
            "text/plain": [
              "<matplotlib.axes._subplots.AxesSubplot at 0x7fc85d044f90>"
            ]
          },
          "metadata": {},
          "execution_count": 13
        },
        {
          "output_type": "display_data",
          "data": {
            "text/plain": [
              "<Figure size 576x360 with 1 Axes>"
            ],
            "image/png": "[encoded data removed]"
          },
          "metadata": {}
        }
      ]
    },
    {
      "cell_type": "markdown",
      "source": [
        "Al igual que rooms. Existen muchos datos outliers."
      ],
      "metadata": {
        "id": "Ukvc5WKx_eMe"
      }
    },
    {
      "cell_type": "markdown",
      "source": [
        "## Population"
      ],
      "metadata": {
        "id": "xjhuFLASA9sM"
      }
    },
    {
      "cell_type": "code",
      "source": [
        "#Ver boxplot, para verificar si tenemos datos outliers\n",
        "plt.figure(figsize=(8,5))\n",
        "sns.boxplot(data = df_housing, y = 'population')"
      ],
      "metadata": {
        "colab": {
          "base_uri": "https://localhost:8080/",
          "height": 320
        },
        "id": "T2p0xq_gA2Eu",
        "outputId": "8f499375-37a0-4d69-f909-7a410ce73488"
      },
      "execution_count": null,
      "outputs": [
        {
          "output_type": "execute_result",
          "data": {
            "text/plain": [
              "<matplotlib.axes._subplots.AxesSubplot at 0x7fc85d04bad0>"
            ]
          },
          "metadata": {},
          "execution_count": 14
        },
        {
          "output_type": "display_data",
          "data": {
            "text/plain": [
              "<Figure size 576x360 with 1 Axes>"
            ],
            "image/png": "[encoded data removed]"
          },
          "metadata": {}
        }
      ]
    },
    {
      "cell_type": "markdown",
      "source": [
        "Hay outliers"
      ],
      "metadata": {
        "id": "-hZG3USgBKW7"
      }
    },
    {
      "cell_type": "markdown",
      "source": [
        "## Households"
      ],
      "metadata": {
        "id": "nmKOWMd_B2SV"
      }
    },
    {
      "cell_type": "code",
      "source": [
        "#Ver boxplot, para verificar si tenemos datos outliers\n",
        "plt.figure(figsize=(8,5))\n",
        "sns.boxplot(data = df_housing, y = 'households')"
      ],
      "metadata": {
        "colab": {
          "base_uri": "https://localhost:8080/",
          "height": 320
        },
        "id": "1Rp0G2PaB4-t",
        "outputId": "9f21cba0-ae36-4c03-abbb-5713739779f2"
      },
      "execution_count": null,
      "outputs": [
        {
          "output_type": "execute_result",
          "data": {
            "text/plain": [
              "<matplotlib.axes._subplots.AxesSubplot at 0x7fc85cff4710>"
            ]
          },
          "metadata": {},
          "execution_count": 15
        },
        {
          "output_type": "display_data",
          "data": {
            "text/plain": [
              "<Figure size 576x360 with 1 Axes>"
            ],
            "image/png": "[encoded data removed]"
          },
          "metadata": {}
        }
      ]
    },
    {
      "cell_type": "markdown",
      "source": [
        "Hay outliers"
      ],
      "metadata": {
        "id": "aRh6Xsk4CKN0"
      }
    },
    {
      "cell_type": "markdown",
      "source": [
        "##Median_income"
      ],
      "metadata": {
        "id": "K24nxQJ7CWck"
      }
    },
    {
      "cell_type": "code",
      "source": [
        "#Ver distribucion\n",
        "sns.displot(data = df_housing, x= 'median_house_value', kde = True)"
      ],
      "metadata": {
        "colab": {
          "base_uri": "https://localhost:8080/",
          "height": 386
        },
        "id": "4rW9ia9HB5JU",
        "outputId": "4478eeb9-aec0-4d53-de9a-a0d0c9a0c552"
      },
      "execution_count": null,
      "outputs": [
        {
          "output_type": "execute_result",
          "data": {
            "text/plain": [
              "<seaborn.axisgrid.FacetGrid at 0x7fc85e30d090>"
            ]
          },
          "metadata": {},
          "execution_count": 16
        },
        {
          "output_type": "display_data",
          "data": {
            "text/plain": [
              "<Figure size 360x360 with 1 Axes>"
            ],
            "image/png": "[encoded data removed]"
          },
          "metadata": {}
        }
      ]
    },
    {
      "cell_type": "markdown",
      "source": [
        "No tiene distribucion normal"
      ],
      "metadata": {
        "id": "4_bxtK10C00G"
      }
    },
    {
      "cell_type": "code",
      "source": [
        "#Ver boxplot, para verificar si tenemos datos outliers\n",
        "plt.figure(figsize=(6,7))\n",
        "sns.boxplot(data = df_housing, y = 'median_house_value')"
      ],
      "metadata": {
        "colab": {
          "base_uri": "https://localhost:8080/",
          "height": 428
        },
        "id": "--8iwrseSRVf",
        "outputId": "ba5c11cc-b3ca-4269-b4ef-60d4fb236b38"
      },
      "execution_count": null,
      "outputs": [
        {
          "output_type": "execute_result",
          "data": {
            "text/plain": [
              "<matplotlib.axes._subplots.AxesSubplot at 0x7fc8585de290>"
            ]
          },
          "metadata": {},
          "execution_count": 17
        },
        {
          "output_type": "display_data",
          "data": {
            "text/plain": [
              "<Figure size 432x504 with 1 Axes>"
            ],
            "image/png": "[encoded data removed]"
          },
          "metadata": {}
        }
      ]
    },
    {
      "cell_type": "markdown",
      "source": [
        "Tenemos datos outliers"
      ],
      "metadata": {
        "id": "xLzurivtSWeS"
      }
    },
    {
      "cell_type": "markdown",
      "source": [
        "## Ocean - Proximity"
      ],
      "metadata": {
        "id": "Ox8BJaVsDFYd"
      }
    },
    {
      "cell_type": "code",
      "source": [
        "df_housing['ocean_proximity'].value_counts()"
      ],
      "metadata": {
        "colab": {
          "base_uri": "https://localhost:8080/"
        },
        "id": "CTuj6nEmDJF6",
        "outputId": "7c36219a-0565-4dda-db09-edbe3694f3c8"
      },
      "execution_count": null,
      "outputs": [
        {
          "output_type": "execute_result",
          "data": {
            "text/plain": [
              "<1H OCEAN     9136\n",
              "INLAND        6551\n",
              "NEAR OCEAN    2658\n",
              "NEAR BAY      2290\n",
              "ISLAND           5\n",
              "Name: ocean_proximity, dtype: int64"
            ]
          },
          "metadata": {},
          "execution_count": 18
        }
      ]
    },
    {
      "cell_type": "code",
      "source": [
        "plt.figure(figsize=(6,7))\n",
        "sns.countplot(data = df_housing , x = 'ocean_proximity' , order = df_housing['ocean_proximity'].value_counts().index)"
      ],
      "metadata": {
        "colab": {
          "base_uri": "https://localhost:8080/",
          "height": 460
        },
        "id": "10ZCxOITNig7",
        "outputId": "9236bdf5-8b5a-4b22-c511-ec18e534ab4b"
      },
      "execution_count": null,
      "outputs": [
        {
          "output_type": "execute_result",
          "data": {
            "text/plain": [
              "<matplotlib.axes._subplots.AxesSubplot at 0x7fc858667450>"
            ]
          },
          "metadata": {},
          "execution_count": 19
        },
        {
          "output_type": "display_data",
          "data": {
            "text/plain": [
              "<Figure size 432x504 with 1 Axes>"
            ],
            "image/png": "[encoded data removed]"
          },
          "metadata": {}
        }
      ]
    },
    {
      "cell_type": "markdown",
      "source": [
        "Podemos ver que hay más casas a más de 1 hora del oceano"
      ],
      "metadata": {
        "id": "T6EM_8AQN2vj"
      }
    },
    {
      "cell_type": "markdown",
      "source": [
        "¿La variable ocean proximity influye en median_house_value?"
      ],
      "metadata": {
        "id": "7BPBf7pnOCzS"
      }
    },
    {
      "cell_type": "code",
      "source": [
        "#View boxplot with these genres\n",
        "plt.figure(figsize=(15,6))\n",
        "sns.boxplot(x= 'ocean_proximity', y = 'median_house_value' , data= df_housing)"
      ],
      "metadata": {
        "colab": {
          "base_uri": "https://localhost:8080/",
          "height": 406
        },
        "id": "5ggVw2dWOSSZ",
        "outputId": "a8e2cd3b-21cc-464a-fb01-ac2c6af8065c"
      },
      "execution_count": null,
      "outputs": [
        {
          "output_type": "execute_result",
          "data": {
            "text/plain": [
              "<matplotlib.axes._subplots.AxesSubplot at 0x7fc8585a24d0>"
            ]
          },
          "metadata": {},
          "execution_count": 20
        },
        {
          "output_type": "display_data",
          "data": {
            "text/plain": [
              "<Figure size 1080x432 with 1 Axes>"
            ],
            "image/png": "[encoded data removed]"
          },
          "metadata": {}
        }
      ]
    },
    {
      "cell_type": "markdown",
      "source": [
        "Según los resultados del gráfico. La mayoría de las casas que tengan ocean_proximity en ISLAND son los más caros. Por otro lado, los que tienen INLAND son los más baratos.\n",
        "\n",
        "Puedo afirmar que si afecta el ocean_proximity."
      ],
      "metadata": {
        "id": "P40wF66iOw4U"
      }
    },
    {
      "cell_type": "markdown",
      "source": [
        "## CORRELATION"
      ],
      "metadata": {
        "id": "_MstVmxcPlKP"
      }
    },
    {
      "cell_type": "code",
      "source": [
        "plt.figure(figsize=(10,7))\n",
        "\n",
        "#Correlacion entre las variables\n",
        "sns.heatmap(df_housing.corr() , annot = True , fmt = '.1g' , vmin = -1 , vmax = 1 , cmap = 'coolwarm' ,\n",
        "            linewidths=3, linecolor='black')"
      ],
      "metadata": {
        "colab": {
          "base_uri": "https://localhost:8080/",
          "height": 545
        },
        "id": "-DeEJPkoPpHh",
        "outputId": "0e314239-14fc-4cdd-a4fe-741b50ad090d"
      },
      "execution_count": null,
      "outputs": [
        {
          "output_type": "execute_result",
          "data": {
            "text/plain": [
              "<matplotlib.axes._subplots.AxesSubplot at 0x7fc85cf64610>"
            ]
          },
          "metadata": {},
          "execution_count": 21
        },
        {
          "output_type": "display_data",
          "data": {
            "text/plain": [
              "<Figure size 720x504 with 2 Axes>"
            ],
            "image/png": "[encoded data removed]"
          },
          "metadata": {}
        }
      ]
    },
    {
      "cell_type": "markdown",
      "source": [
        "Aquí puedo afirmar que el valor de la casa esta positivamente fuerte correlacionado a la variable median_income."
      ],
      "metadata": {
        "id": "XdKKBN2TQg0k"
      }
    },
    {
      "cell_type": "markdown",
      "source": [
        "Quiero ver la gráfica entre estos 2. Ya que estan fuertemente correlacionados"
      ],
      "metadata": {
        "id": "R9_q7Tp5WFxB"
      }
    },
    {
      "cell_type": "code",
      "source": [
        "sns.scatterplot(data = df_housing, x = 'median_income' , y = 'median_house_value')"
      ],
      "metadata": {
        "colab": {
          "base_uri": "https://localhost:8080/",
          "height": 297
        },
        "id": "fgFZV4BNVsQj",
        "outputId": "03699d05-86b6-4c11-d53e-3d68d0a8ef10"
      },
      "execution_count": null,
      "outputs": [
        {
          "output_type": "execute_result",
          "data": {
            "text/plain": [
              "<matplotlib.axes._subplots.AxesSubplot at 0x7fc858667210>"
            ]
          },
          "metadata": {},
          "execution_count": 23
        },
        {
          "output_type": "display_data",
          "data": {
            "text/plain": [
              "<Figure size 432x288 with 1 Axes>"
            ],
            "image/png": "[encoded data removed]"
          },
          "metadata": {}
        }
      ]
    },
    {
      "cell_type": "markdown",
      "source": [
        "Puedo ver que hay datos atípicos en este gráfico"
      ],
      "metadata": {
        "id": "rAostaDyWKny"
      }
    },
    {
      "cell_type": "markdown",
      "source": [
        "##RESUMEN"
      ],
      "metadata": {
        "id": "WnbtXYhpXFTw"
      }
    },
    {
      "cell_type": "markdown",
      "source": [
        "•En total_beedrooms tenemos 207 datos faltantes.\n",
        "\n",
        "•Anomalias entre el gráfico de median_income y median_house_value.\n",
        "\n",
        "•Muchos datos atípicos en la variables: total_rooms, total_bedrooms, population y households.\n",
        "\n",
        "•Aproximity_Ocean \"ISLAND\" la mayoría de sus casas son las más carás."
      ],
      "metadata": {
        "id": "MX_ahHtiR67F"
      }
    },
    {
      "cell_type": "markdown",
      "source": [
        "# Preprocesamiento de datos"
      ],
      "metadata": {
        "id": "gD9YaYBiRu-b"
      }
    },
    {
      "cell_type": "markdown",
      "source": [
        "Probaré 4 cosas. \n",
        "\n",
        "df_experiment = Un dataset con estandarización, imputando datos nulos por la media, usando ordinal encoder para lidiar con los datos categoricos, eliminando las variables longitude y latitude. Usando PCA y Regularización.\n",
        "\n",
        "df_experiment2 = Un dataset sin estandarización, imputando datos imputando datos nulos por la media, usando ordinal encoder para lidiar con los datos categoricos, eliminando las variables longitude y latitude. Usando Regularización y Polynomial Regression.\n",
        "\n",
        "df_experiment3 = Un dataset con estandarización, imputando datos imputando datos nulos por la media, usando ordinal encoder para lidiar con los datos categoricos, eliminando las variables longitude y latitude. Usando Regularización y Polynomial Regression.\n",
        "\n",
        "df_experiment4 = Un dataset sin estandarización, imputando datos imputando datos nulos por la media, usando ordinal encoder para lidiar con los datos categoricos, eliminando las variables longitude y latitude. Usando PCA y Regularización."
      ],
      "metadata": {
        "id": "6vA4UPkeX5jB"
      }
    },
    {
      "cell_type": "code",
      "source": [
        "#Creando df_experiment\n",
        "df_experiment = df_housing.copy()"
      ],
      "metadata": {
        "id": "1GT-QrSsbMwN"
      },
      "execution_count": null,
      "outputs": []
    },
    {
      "cell_type": "code",
      "source": [
        "#Eliminando las variables longitude y latitude en el housing principal\n",
        "df_experiment.drop(['longitude', 'latitude'], axis = 1, inplace = True)"
      ],
      "metadata": {
        "id": "yeNKzOcjX4CT"
      },
      "execution_count": null,
      "outputs": []
    },
    {
      "cell_type": "code",
      "source": [
        "#Imputar datos\n",
        "from sklearn.impute import SimpleImputer\n",
        "imputer = SimpleImputer(strategy=\"median\") #usamos la mediana\n",
        "\n",
        "df_experiment['total_bedrooms'] = imputer.fit_transform(df_experiment[['total_bedrooms']])"
      ],
      "metadata": {
        "id": "_6ttObteb3d0"
      },
      "execution_count": null,
      "outputs": []
    },
    {
      "cell_type": "code",
      "source": [
        "df_experiment['total_bedrooms'].isnull().sum() #Ya no verá nulos en total_bedrooms"
      ],
      "metadata": {
        "colab": {
          "base_uri": "https://localhost:8080/"
        },
        "id": "kFM8mYncdQo_",
        "outputId": "47b38a0d-4ae1-4a85-ece6-a78956723ff4"
      },
      "execution_count": null,
      "outputs": [
        {
          "output_type": "execute_result",
          "data": {
            "text/plain": [
              "0"
            ]
          },
          "metadata": {},
          "execution_count": 35
        }
      ]
    },
    {
      "cell_type": "code",
      "source": [
        "#Ordinal Enconder\n",
        "from sklearn.preprocessing import OrdinalEncoder\n",
        "\n",
        "ordinal_encoder = OrdinalEncoder()\n",
        "\n",
        "df_experiment['ocean_proximity'] = ordinal_encoder.fit_transform(df_experiment[['ocean_proximity']])"
      ],
      "metadata": {
        "id": "AVfKd87OfXCb"
      },
      "execution_count": null,
      "outputs": []
    },
    {
      "cell_type": "code",
      "source": [
        "#Mostrar el dataset con el ordinal encoder hecho\n",
        "df_experiment.head()"
      ],
      "metadata": {
        "colab": {
          "base_uri": "https://localhost:8080/",
          "height": 206
        },
        "id": "4SFceS4Wf3Zr",
        "outputId": "299262e4-c567-4a9b-9e19-5759ab64ca5b"
      },
      "execution_count": null,
      "outputs": [
        {
          "output_type": "execute_result",
          "data": {
            "text/plain": [
              "   housing_median_age  total_rooms  total_bedrooms  population  households  \\\n",
              "0                41.0        880.0           129.0       322.0       126.0   \n",
              "1                21.0       7099.0          1106.0      2401.0      1138.0   \n",
              "2                52.0       1467.0           190.0       496.0       177.0   \n",
              "3                52.0       1274.0           235.0       558.0       219.0   \n",
              "4                52.0       1627.0           280.0       565.0       259.0   \n",
              "\n",
              "   median_income  median_house_value  ocean_proximity  \n",
              "0         8.3252            452600.0              3.0  \n",
              "1         8.3014            358500.0              3.0  \n",
              "2         7.2574            352100.0              3.0  \n",
              "3         5.6431            341300.0              3.0  \n",
              "4         3.8462            342200.0              3.0  "
            ],
            "text/html": [
              "\n",
              "  <div id=\"df-80b63d43-cfdb-4fd2-920f-b5de49891bc6\">\n",
              "    <div class=\"colab-df-container\">\n",
              "      <div>\n",
              "<style scoped>\n",
              "    .dataframe tbody tr th:only-of-type {\n",
              "        vertical-align: middle;\n",
              "    }\n",
              "\n",
              "    .dataframe tbody tr th {\n",
              "        vertical-align: top;\n",
              "    }\n",
              "\n",
              "    .dataframe thead th {\n",
              "        text-align: right;\n",
              "    }\n",
              "</style>\n",
              "<table border=\"1\" class=\"dataframe\">\n",
              "  <thead>\n",
              "    <tr style=\"text-align: right;\">\n",
              "      <th></th>\n",
              "      <th>housing_median_age</th>\n",
              "      <th>total_rooms</th>\n",
              "      <th>total_bedrooms</th>\n",
              "      <th>population</th>\n",
              "      <th>households</th>\n",
              "      <th>median_income</th>\n",
              "      <th>median_house_value</th>\n",
              "      <th>ocean_proximity</th>\n",
              "    </tr>\n",
              "  </thead>\n",
              "  <tbody>\n",
              "    <tr>\n",
              "      <th>0</th>\n",
              "      <td>41.0</td>\n",
              "      <td>880.0</td>\n",
              "      <td>129.0</td>\n",
              "      <td>322.0</td>\n",
              "      <td>126.0</td>\n",
              "      <td>8.3252</td>\n",
              "      <td>452600.0</td>\n",
              "      <td>3.0</td>\n",
              "    </tr>\n",
              "    <tr>\n",
              "      <th>1</th>\n",
              "      <td>21.0</td>\n",
              "      <td>7099.0</td>\n",
              "      <td>1106.0</td>\n",
              "      <td>2401.0</td>\n",
              "      <td>1138.0</td>\n",
              "      <td>8.3014</td>\n",
              "      <td>358500.0</td>\n",
              "      <td>3.0</td>\n",
              "    </tr>\n",
              "    <tr>\n",
              "      <th>2</th>\n",
              "      <td>52.0</td>\n",
              "      <td>1467.0</td>\n",
              "      <td>190.0</td>\n",
              "      <td>496.0</td>\n",
              "      <td>177.0</td>\n",
              "      <td>7.2574</td>\n",
              "      <td>352100.0</td>\n",
              "      <td>3.0</td>\n",
              "    </tr>\n",
              "    <tr>\n",
              "      <th>3</th>\n",
              "      <td>52.0</td>\n",
              "      <td>1274.0</td>\n",
              "      <td>235.0</td>\n",
              "      <td>558.0</td>\n",
              "      <td>219.0</td>\n",
              "      <td>5.6431</td>\n",
              "      <td>341300.0</td>\n",
              "      <td>3.0</td>\n",
              "    </tr>\n",
              "    <tr>\n",
              "      <th>4</th>\n",
              "      <td>52.0</td>\n",
              "      <td>1627.0</td>\n",
              "      <td>280.0</td>\n",
              "      <td>565.0</td>\n",
              "      <td>259.0</td>\n",
              "      <td>3.8462</td>\n",
              "      <td>342200.0</td>\n",
              "      <td>3.0</td>\n",
              "    </tr>\n",
              "  </tbody>\n",
              "</table>\n",
              "</div>\n",
              "      <button class=\"colab-df-convert\" onclick=\"convertToInteractive('df-80b63d43-cfdb-4fd2-920f-b5de49891bc6')\"\n",
              "              title=\"Convert this dataframe to an interactive table.\"\n",
              "              style=\"display:none;\">\n",
              "        \n",
              "  <svg xmlns=\"http://www.w3.org/2000/svg\" height=\"24px\"viewBox=\"0 0 24 24\"\n",
              "       width=\"24px\">\n",
              "    <path d=\"M0 0h24v24H0V0z\" fill=\"none\"/>\n",
              "    <path d=\"M18.56 5.44l.94 2.06.94-2.06 2.06-.94-2.06-.94-.94-2.06-.94 2.06-2.06.94zm-11 1L8.5 8.5l.94-2.06 2.06-.94-2.06-.94L8.5 2.5l-.94 2.06-2.06.94zm10 10l.94 2.06.94-2.06 2.06-.94-2.06-.94-.94-2.06-.94 2.06-2.06.94z\"/><path d=\"M17.41 7.96l-1.37-1.37c-.4-.4-.92-.59-1.43-.59-.52 0-1.04.2-1.43.59L10.3 9.45l-7.72 7.72c-.78.78-.78 2.05 0 2.83L4 21.41c.39.39.9.59 1.41.59.51 0 1.02-.2 1.41-.59l7.78-7.78 2.81-2.81c.8-.78.8-2.07 0-2.86zM5.41 20L4 18.59l7.72-7.72 1.47 1.35L5.41 20z\"/>\n",
              "  </svg>\n",
              "      </button>\n",
              "      \n",
              "  <style>\n",
              "    .colab-df-container {\n",
              "      display:flex;\n",
              "      flex-wrap:wrap;\n",
              "      gap: 12px;\n",
              "    }\n",
              "\n",
              "    .colab-df-convert {\n",
              "      background-color: #E8F0FE;\n",
              "      border: none;\n",
              "      border-radius: 50%;\n",
              "      cursor: pointer;\n",
              "      display: none;\n",
              "      fill: #1967D2;\n",
              "      height: 32px;\n",
              "      padding: 0 0 0 0;\n",
              "      width: 32px;\n",
              "    }\n",
              "\n",
              "    .colab-df-convert:hover {\n",
              "      background-color: #E2EBFA;\n",
              "      box-shadow: 0px 1px 2px rgba(60, 64, 67, 0.3), 0px 1px 3px 1px rgba(60, 64, 67, 0.15);\n",
              "      fill: #174EA6;\n",
              "    }\n",
              "\n",
              "    [theme=dark] .colab-df-convert {\n",
              "      background-color: #3B4455;\n",
              "      fill: #D2E3FC;\n",
              "    }\n",
              "\n",
              "    [theme=dark] .colab-df-convert:hover {\n",
              "      background-color: #434B5C;\n",
              "      box-shadow: 0px 1px 3px 1px rgba(0, 0, 0, 0.15);\n",
              "      filter: drop-shadow(0px 1px 2px rgba(0, 0, 0, 0.3));\n",
              "      fill: #FFFFFF;\n",
              "    }\n",
              "  </style>\n",
              "\n",
              "      <script>\n",
              "        const buttonEl =\n",
              "          document.querySelector('#df-80b63d43-cfdb-4fd2-920f-b5de49891bc6 button.colab-df-convert');\n",
              "        buttonEl.style.display =\n",
              "          google.colab.kernel.accessAllowed ? 'block' : 'none';\n",
              "\n",
              "        async function convertToInteractive(key) {\n",
              "          const element = document.querySelector('#df-80b63d43-cfdb-4fd2-920f-b5de49891bc6');\n",
              "          const dataTable =\n",
              "            await google.colab.kernel.invokeFunction('convertToInteractive',\n",
              "                                                     [key], {});\n",
              "          if (!dataTable) return;\n",
              "\n",
              "          const docLinkHtml = 'Like what you see? Visit the ' +\n",
              "            '<a target=\"_blank\" href=https://colab.research.google.com/notebooks/data_table.ipynb>data table notebook</a>'\n",
              "            + ' to learn more about interactive tables.';\n",
              "          element.innerHTML = '';\n",
              "          dataTable['output_type'] = 'display_data';\n",
              "          await google.colab.output.renderOutput(dataTable, element);\n",
              "          const docLink = document.createElement('div');\n",
              "          docLink.innerHTML = docLinkHtml;\n",
              "          element.appendChild(docLink);\n",
              "        }\n",
              "      </script>\n",
              "    </div>\n",
              "  </div>\n",
              "  "
            ]
          },
          "metadata": {},
          "execution_count": 39
        }
      ]
    },
    {
      "cell_type": "code",
      "source": [
        "#creando los experiment\n",
        "df_experiment2 = df_experiment.copy()\n",
        "df_experiment3 = df_experiment.copy()\n",
        "df_experiment4 = df_experiment.copy()"
      ],
      "metadata": {
        "id": "HMg_hr4ddy1U"
      },
      "execution_count": null,
      "outputs": []
    },
    {
      "cell_type": "code",
      "source": [
        "#Estandarizando df_experiment y df_experiment3\n",
        "from sklearn.preprocessing import StandardScaler\n",
        "\n",
        "standar_scaler = StandardScaler()\n",
        "\n",
        "val = ['housing_median_age', 'total_rooms', 'total_bedrooms', 'population',\n",
        "       'households', 'median_income']\n",
        "\n",
        "df_experiment[val] = standar_scaler.fit_transform(df_experiment[val])\n",
        "df_experiment3[val] = standar_scaler.fit_transform(df_experiment3[val])"
      ],
      "metadata": {
        "id": "RpUAu3wLd6KV"
      },
      "execution_count": null,
      "outputs": []
    },
    {
      "cell_type": "markdown",
      "source": [
        "#SEPARANDO DATOS y TRAIN TEST SPLIT"
      ],
      "metadata": {
        "id": "La0s84F_hwdt"
      }
    },
    {
      "cell_type": "code",
      "source": [
        "v_ind = ['housing_median_age', 'total_rooms', 'total_bedrooms', 'population',\n",
        "       'households', 'median_income','ocean_proximity'] #variables independientes\n",
        "\n",
        "#df_experiment\n",
        "X = df_experiment[v_ind].values\n",
        "y = df_experiment['median_house_value'] #variable dependiente ( objetivo ) \n",
        "\n",
        "\n",
        "#df_experiment2\n",
        "X2 = df_experiment2[v_ind].values\n",
        "y2 = df_experiment2['median_house_value'] #variable dependiente ( objetivo )\n",
        "\n",
        "\n",
        "\n",
        "#df_experiment3\n",
        "X3 = df_experiment3[v_ind].values\n",
        "y3 = df_experiment3['median_house_value'] #variable dependiente ( objetivo )\n",
        "\n",
        "\n",
        "#df_experiment4\n",
        "X4 = df_experiment4[v_ind].values\n",
        "y4 = df_experiment4['median_house_value'] #variable dependiente ( objetivo )"
      ],
      "metadata": {
        "id": "-MxMA_5ohvju"
      },
      "execution_count": null,
      "outputs": []
    },
    {
      "cell_type": "code",
      "source": [
        "from sklearn.model_selection import train_test_split  \n",
        "\n",
        "X_train, X_test, y_train, y_test = train_test_split(X, y, test_size = 0.2, random_state = 81) #Del df_experiment\n",
        "\n",
        "X2_train, X2_test, y2_train, y2_test = train_test_split(X2, y2, test_size = 0.2, random_state = 82) #Del df_experiment2\n",
        "\n",
        "X3_train, X3_test, y3_train, y3_test = train_test_split(X3, y3, test_size = 0.2, random_state = 83) #Del df_experiment3\n",
        "\n",
        "X4_train, X4_test, y4_train, y4_test = train_test_split(X4, y4, test_size = 0.2, random_state = 84) #Del df_experiment4\n"
      ],
      "metadata": {
        "id": "rBXlKd0Wimsw"
      },
      "execution_count": null,
      "outputs": []
    },
    {
      "cell_type": "markdown",
      "source": [
        "#MACHINE LEARNING MODELS"
      ],
      "metadata": {
        "id": "37DrQLcWmKgT"
      }
    },
    {
      "cell_type": "code",
      "source": [
        "from sklearn.linear_model import LinearRegression\n",
        "from sklearn.preprocessing import PolynomialFeatures\n",
        "from sklearn.decomposition import PCA\n",
        "from sklearn.linear_model import Lasso\n",
        "from sklearn.linear_model import Ridge"
      ],
      "metadata": {
        "id": "cOJ5tRb5mOx4"
      },
      "execution_count": null,
      "outputs": []
    },
    {
      "cell_type": "code",
      "source": [
        "#Métricas para modelos de regresión\n",
        "from sklearn.metrics import r2_score , mean_squared_error , mean_absolute_error"
      ],
      "metadata": {
        "id": "S_Sdk2Am21za"
      },
      "execution_count": null,
      "outputs": []
    },
    {
      "cell_type": "markdown",
      "source": [
        "##df_experiment"
      ],
      "metadata": {
        "id": "AB2bKbMgpO3C"
      }
    },
    {
      "cell_type": "code",
      "source": [
        "pca_experiment =  PCA(n_components= 3) #pusimos que haya 3 componentes\n",
        "pca_experiment.fit(X_train)"
      ],
      "metadata": {
        "colab": {
          "base_uri": "https://localhost:8080/"
        },
        "id": "Sn-kLh7PpOUW",
        "outputId": "73bf9b85-980b-4472-9c82-f9baa6436139"
      },
      "execution_count": null,
      "outputs": [
        {
          "output_type": "execute_result",
          "data": {
            "text/plain": [
              "PCA(n_components=3)"
            ]
          },
          "metadata": {},
          "execution_count": 124
        }
      ]
    },
    {
      "cell_type": "code",
      "source": [
        "#Variables Xtrain y Xtest también estarán con efecto del PCA\n",
        "pca_X_train = pca_experiment.transform(X_train)\n",
        "pca_X_test = pca_experiment.transform(X_test)"
      ],
      "metadata": {
        "id": "nZFssJZhqVRZ"
      },
      "execution_count": null,
      "outputs": []
    },
    {
      "cell_type": "code",
      "source": [
        "regresion_lineal_experiment = LinearRegression().fit(pca_X_train, y_train) #Regresión Lineal\n",
        "lasso_experiment = Lasso(alpha=0.02, random_state = 80 ).fit(pca_X_train, y_train) #Lasso\n",
        "ridge_experiment = Ridge(random_state = 80).fit(pca_X_train, y_train) #Ridge"
      ],
      "metadata": {
        "id": "lIx0fzAxquI-"
      },
      "execution_count": null,
      "outputs": []
    },
    {
      "cell_type": "code",
      "source": [
        "#Predicciones\n",
        "y_lineal_experiment = regresion_lineal_experiment.predict(pca_X_test)\n",
        "y_lasso_experiment =  lasso_experiment.predict(pca_X_test)\n",
        "y_ridge_experiment =  ridge_experiment.predict(pca_X_test)"
      ],
      "metadata": {
        "id": "EZgEqXYrwRFO"
      },
      "execution_count": null,
      "outputs": []
    },
    {
      "cell_type": "code",
      "source": [
        "#regresión lineal\n",
        "r_square_lineal_experiment = r2_score(y_test , y_lineal_experiment)\n",
        "print('R_SQUARE: ' , r_square_lineal_experiment)\n",
        "mae_lineal_experiment = mean_absolute_error(y_test , y_lineal_experiment)\n",
        "print('MAE: ', mae_lineal_experiment)\n",
        "mse_lineal_experiment = mean_squared_error(y_test , y_lineal_experiment)\n",
        "print('MSE: ' , mse_lineal_experiment)\n",
        "rmse_lineal_experiment = mse_lineal_experiment ** 0.5\n",
        "print('RMSE: ' , rmse_lineal_experiment)"
      ],
      "metadata": {
        "colab": {
          "base_uri": "https://localhost:8080/"
        },
        "id": "uhsH6Lzh2-oL",
        "outputId": "c9d698a1-b03f-4764-cc3a-ed822b7ee910"
      },
      "execution_count": null,
      "outputs": [
        {
          "output_type": "stream",
          "name": "stdout",
          "text": [
            "R_SQUARE:  0.3426679614687156\n",
            "MAE:  72431.44411253644\n",
            "MSE:  8877320819.078049\n",
            "RMSE:  94219.53523064125\n"
          ]
        }
      ]
    },
    {
      "cell_type": "code",
      "source": [
        "#lasso\n",
        "r_square_lasso_experiment = r2_score(y_test , y_lasso_experiment)\n",
        "print('R_SQUARE: ' , r_square_lasso_experiment)\n",
        "mae_lasso_experiment = mean_absolute_error(y_test , y_lasso_experiment)\n",
        "print('MAE: ', mae_lasso_experiment)\n",
        "mse_lasso_experiment = mean_squared_error(y_test , y_lasso_experiment)\n",
        "print('MSE: ' , mse_lasso_experiment)\n",
        "rmse_lasso_experiment = mse_lasso_experiment ** 0.5\n",
        "print('RMSE: ' , rmse_lasso_experiment)"
      ],
      "metadata": {
        "colab": {
          "base_uri": "https://localhost:8080/"
        },
        "id": "BlGqgRzQ5mog",
        "outputId": "850e78dd-925e-47d2-f766-1d76d59f56c9"
      },
      "execution_count": null,
      "outputs": [
        {
          "output_type": "stream",
          "name": "stdout",
          "text": [
            "R_SQUARE:  0.3426679520858189\n",
            "MAE:  72431.44488897844\n",
            "MSE:  8877320945.794806\n",
            "RMSE:  94219.53590309605\n"
          ]
        }
      ]
    },
    {
      "cell_type": "code",
      "source": [
        "#ridge\n",
        "r_square_ridge_experiment= r2_score(y_test , y_ridge_experiment)\n",
        "print('R_SQUARE: ' , r_square_ridge_experiment)\n",
        "mae_ridge_experiment = mean_absolute_error(y_test , y_ridge_experiment)\n",
        "print('MAE: ', mae_ridge_experiment)\n",
        "mse_ridge_experiment = mean_squared_error(y_test , y_ridge_experiment)\n",
        "print('MSE: ' , mse_ridge_experiment)\n",
        "rmse_ridge_experiment = mse_ridge_experiment ** 0.5\n",
        "print('RMSE: ' , rmse_ridge_experiment)"
      ],
      "metadata": {
        "colab": {
          "base_uri": "https://localhost:8080/"
        },
        "id": "vKaadxcG6H4i",
        "outputId": "c71c29d0-ceab-4d03-9390-57c5c5392aaa"
      },
      "execution_count": null,
      "outputs": [
        {
          "output_type": "stream",
          "name": "stdout",
          "text": [
            "R_SQUARE:  0.34266672272559684\n",
            "MAE:  72431.61543869355\n",
            "MSE:  8877337548.401182\n",
            "RMSE:  94219.62400902045\n"
          ]
        }
      ]
    },
    {
      "cell_type": "markdown",
      "source": [
        "##df_experiment2"
      ],
      "metadata": {
        "id": "ZZI-INqS7OOL"
      }
    },
    {
      "cell_type": "code",
      "source": [
        "#Polynomial\n",
        "poly_features_experiment2 = PolynomialFeatures(degree = 2 , include_bias= False)\n",
        "poly_features_experiment2.fit(X2_train)"
      ],
      "metadata": {
        "colab": {
          "base_uri": "https://localhost:8080/"
        },
        "id": "U9Ea2hYZ-Yhu",
        "outputId": "bd35ead1-c18f-4a67-dd52-5076aafa0bd2"
      },
      "execution_count": null,
      "outputs": [
        {
          "output_type": "execute_result",
          "data": {
            "text/plain": [
              "PolynomialFeatures(include_bias=False)"
            ]
          },
          "metadata": {},
          "execution_count": 131
        }
      ]
    },
    {
      "cell_type": "code",
      "source": [
        "#Variables X2_train y X2_test estarán bajo efecto del poly_feature\n",
        "poly_X2_train = poly_features_experiment2.transform(X2_train)\n",
        "poly_X2_test = poly_features_experiment2.transform(X2_test)"
      ],
      "metadata": {
        "id": "o6mV_9Th_vfH"
      },
      "execution_count": null,
      "outputs": []
    },
    {
      "cell_type": "code",
      "source": [
        "regresion_lineal_experiment2 = LinearRegression().fit(poly_X2_train, y2_train) #Regresión Lineal\n",
        "lasso_experiment2 = Lasso(alpha=0.02, random_state = 80 ).fit(poly_X2_train, y2_train) #Lasso\n",
        "ridge_experiment2 = Ridge(random_state = 80).fit(poly_X2_train, y2_train) #Ridge"
      ],
      "metadata": {
        "colab": {
          "base_uri": "https://localhost:8080/"
        },
        "id": "DZHbpA8v9CbX",
        "outputId": "c67d7390-7998-481f-9633-4112b3bf32e7"
      },
      "execution_count": null,
      "outputs": [
        {
          "output_type": "stream",
          "name": "stderr",
          "text": [
            "/usr/local/lib/python3.7/dist-packages/sklearn/linear_model/_coordinate_descent.py:648: ConvergenceWarning: Objective did not converge. You might want to increase the number of iterations, check the scale of the features or consider increasing regularisation. Duality gap: 3.729e+13, tolerance: 2.192e+10\n",
            "  coef_, l1_reg, l2_reg, X, y, max_iter, tol, rng, random, positive\n",
            "/usr/local/lib/python3.7/dist-packages/sklearn/linear_model/_ridge.py:157: LinAlgWarning: Ill-conditioned matrix (rcond=9.96987e-18): result may not be accurate.\n",
            "  return linalg.solve(A, Xy, sym_pos=True, overwrite_a=True).T\n"
          ]
        }
      ]
    },
    {
      "cell_type": "code",
      "source": [
        "#Predicciones\n",
        "y_lineal_experiment2 = regresion_lineal_experiment2.predict(poly_X2_test)\n",
        "y_lasso_experiment2 =  lasso_experiment2.predict(poly_X2_test)\n",
        "y_ridge_experiment2 =  ridge_experiment2.predict(poly_X2_test)"
      ],
      "metadata": {
        "id": "Apo0-dqiAdHX"
      },
      "execution_count": null,
      "outputs": []
    },
    {
      "cell_type": "code",
      "source": [
        "#regresión lineal\n",
        "r_square_lineal_experiment2 = r2_score(y2_test , y_lineal_experiment2)\n",
        "print('R_SQUARE: ' , r_square_lineal_experiment2)\n",
        "mae_lineal_experiment2 = mean_absolute_error(y2_test , y_lineal_experiment2)\n",
        "print('MAE: ', mae_lineal_experiment2)\n",
        "mse_lineal_experiment2 = mean_squared_error(y2_test , y_lineal_experiment2)\n",
        "print('MSE: ' , mse_lineal_experiment2)\n",
        "rmse_lineal_experiment2 = mse_lineal_experiment2 ** 0.5\n",
        "print('RMSE: ' , rmse_lineal_experiment2)"
      ],
      "metadata": {
        "colab": {
          "base_uri": "https://localhost:8080/"
        },
        "id": "PwBifCjl9Cjk",
        "outputId": "9cdc1ade-8382-4414-a5d2-0989c23c88cf"
      },
      "execution_count": null,
      "outputs": [
        {
          "output_type": "stream",
          "name": "stdout",
          "text": [
            "R_SQUARE:  0.6569865757456043\n",
            "MAE:  48919.91856213697\n",
            "MSE:  4618634741.51347\n",
            "RMSE:  67960.53811965787\n"
          ]
        }
      ]
    },
    {
      "cell_type": "code",
      "source": [
        "#lasso\n",
        "r_square_lasso_experiment2 = r2_score(y2_test , y_lasso_experiment2)\n",
        "print('R_SQUARE: ' , r_square_lasso_experiment2)\n",
        "mae_lasso_experiment2 = mean_absolute_error(y2_test , y_lasso_experiment2)\n",
        "print('MAE: ', mae_lasso_experiment2)\n",
        "mse_lasso_experiment2 = mean_squared_error(y2_test , y_lasso_experiment2)\n",
        "print('MSE: ' , mse_lasso_experiment2)\n",
        "rmse_lasso_experiment2 = mse_lasso_experiment2 ** 0.5\n",
        "print('RMSE: ' , rmse_lasso_experiment2)"
      ],
      "metadata": {
        "colab": {
          "base_uri": "https://localhost:8080/"
        },
        "id": "DeXFp2F8A-ue",
        "outputId": "2bd3fed1-d144-463b-acf9-cd7cbef24834"
      },
      "execution_count": null,
      "outputs": [
        {
          "output_type": "stream",
          "name": "stdout",
          "text": [
            "R_SQUARE:  0.6555311201199203\n",
            "MAE:  48998.37903376019\n",
            "MSE:  4638232277.476171\n",
            "RMSE:  68104.56869752698\n"
          ]
        }
      ]
    },
    {
      "cell_type": "code",
      "source": [
        "#ridge\n",
        "r_square_ridge_experiment2 = r2_score(y2_test , y_ridge_experiment2)\n",
        "print('R_SQUARE: ' , r_square_ridge_experiment2)\n",
        "mae_ridge_experiment2 = mean_absolute_error(y2_test , y_ridge_experiment2)\n",
        "print('MAE: ', mae_ridge_experiment2)\n",
        "mse_ridge_experiment2 = mean_squared_error(y2_test , y_ridge_experiment2)\n",
        "print('MSE: ' , mse_ridge_experiment2)\n",
        "rmse_ridge_experiment2 = mse_ridge_experiment2 ** 0.5\n",
        "print('RMSE: ' , rmse_ridge_experiment2)"
      ],
      "metadata": {
        "colab": {
          "base_uri": "https://localhost:8080/"
        },
        "id": "dXnRE-P9BAmk",
        "outputId": "757bfe0e-2b75-4096-b385-6e30ba0ac8d6"
      },
      "execution_count": null,
      "outputs": [
        {
          "output_type": "stream",
          "name": "stdout",
          "text": [
            "R_SQUARE:  0.6569876853146286\n",
            "MAE:  48919.9381583914\n",
            "MSE:  4618619801.299233\n",
            "RMSE:  67960.42820126454\n"
          ]
        }
      ]
    },
    {
      "cell_type": "markdown",
      "source": [
        "##df_experiment3"
      ],
      "metadata": {
        "id": "cT2KrNNu7Rvo"
      }
    },
    {
      "cell_type": "code",
      "source": [
        "#Polynomial\n",
        "poly_features_experiment3 = PolynomialFeatures(degree = 2 , include_bias= False)\n",
        "poly_features_experiment3.fit(X3_train)"
      ],
      "metadata": {
        "colab": {
          "base_uri": "https://localhost:8080/"
        },
        "id": "UOyKF-Rv9DA-",
        "outputId": "3d953edb-bb3a-47cb-a7c4-f1615809fe41"
      },
      "execution_count": null,
      "outputs": [
        {
          "output_type": "execute_result",
          "data": {
            "text/plain": [
              "PolynomialFeatures(include_bias=False)"
            ]
          },
          "metadata": {},
          "execution_count": 138
        }
      ]
    },
    {
      "cell_type": "code",
      "source": [
        "#Variables X3_train y X3_test estarán bajo efecto del poly_feature\n",
        "poly_X3_train = poly_features_experiment3.transform(X3_train)\n",
        "poly_X3_test = poly_features_experiment3.transform(X3_test)"
      ],
      "metadata": {
        "id": "YvXduo2G9DDp"
      },
      "execution_count": null,
      "outputs": []
    },
    {
      "cell_type": "code",
      "source": [
        "regresion_lineal_experiment3 = LinearRegression().fit(poly_X3_train, y3_train) #Regresión Lineal\n",
        "lasso_experiment3 = Lasso(alpha=0.02, random_state = 80 ).fit(poly_X3_train, y3_train) #Lasso\n",
        "ridge_experiment3 = Ridge(random_state = 80).fit(poly_X3_train, y3_train) #Ridge"
      ],
      "metadata": {
        "colab": {
          "base_uri": "https://localhost:8080/"
        },
        "id": "DDgd5We5BzUp",
        "outputId": "fceb03ab-7021-485c-ebb5-95a180931a38"
      },
      "execution_count": null,
      "outputs": [
        {
          "output_type": "stream",
          "name": "stderr",
          "text": [
            "/usr/local/lib/python3.7/dist-packages/sklearn/linear_model/_coordinate_descent.py:648: ConvergenceWarning: Objective did not converge. You might want to increase the number of iterations, check the scale of the features or consider increasing regularisation. Duality gap: 3.740e+13, tolerance: 2.229e+10\n",
            "  coef_, l1_reg, l2_reg, X, y, max_iter, tol, rng, random, positive\n"
          ]
        }
      ]
    },
    {
      "cell_type": "code",
      "source": [
        "#Predicciones\n",
        "y_lineal_experiment3 = regresion_lineal_experiment2.predict(poly_X3_test)\n",
        "y_lasso_experiment3 =  lasso_experiment2.predict(poly_X3_test)\n",
        "y_ridge_experiment3 =  ridge_experiment2.predict(poly_X3_test)"
      ],
      "metadata": {
        "id": "WnmbayJDBzYx"
      },
      "execution_count": null,
      "outputs": []
    },
    {
      "cell_type": "code",
      "source": [
        "#regresión lineal\n",
        "r_square_lineal_experiment3 = r2_score(y3_test , y_lineal_experiment3)\n",
        "print('R_SQUARE: ' , r_square_lineal_experiment3)\n",
        "mae_lineal_experiment3 = mean_absolute_error(y3_test , y_lineal_experiment3)\n",
        "print('MAE: ', mae_lineal_experiment3)\n",
        "mse_lineal_experiment3 = mean_squared_error(y3_test , y_lineal_experiment3)\n",
        "print('MSE: ' , mse_lineal_experiment3)\n",
        "rmse_lineal_experiment3 = mse_lineal_experiment3 ** 0.5\n",
        "print('RMSE: ' , rmse_lineal_experiment3)"
      ],
      "metadata": {
        "colab": {
          "base_uri": "https://localhost:8080/"
        },
        "id": "m0ylMOdYBzbs",
        "outputId": "be7fe4ed-7804-4e28-c536-c4a2e083a47c"
      },
      "execution_count": null,
      "outputs": [
        {
          "output_type": "stream",
          "name": "stdout",
          "text": [
            "R_SQUARE:  -1.9947417602156365\n",
            "MAE:  174316.90553145227\n",
            "MSE:  37670888327.261\n",
            "RMSE:  194089.89754044646\n"
          ]
        }
      ]
    },
    {
      "cell_type": "code",
      "source": [
        "#lasso\n",
        "r_square_lasso_experiment3 = r2_score(y3_test , y_lasso_experiment3)\n",
        "print('R_SQUARE: ' , r_square_lasso_experiment3)\n",
        "mae_lasso_experiment3 = mean_absolute_error(y3_test , y_lasso_experiment3)\n",
        "print('MAE: ', mae_lasso_experiment3)\n",
        "mse_lasso_experiment3 = mean_squared_error(y3_test , y_lasso_experiment3)\n",
        "print('MSE: ' , mse_lasso_experiment3)\n",
        "rmse_lasso_experiment3 = mse_lasso_experiment3 ** 0.5\n",
        "print('RMSE: ' , rmse_lasso_experiment3)"
      ],
      "metadata": {
        "colab": {
          "base_uri": "https://localhost:8080/"
        },
        "id": "MwWbYNJwCGqQ",
        "outputId": "d482378f-d225-4f69-b2ad-3b7d3e8b2f06"
      },
      "execution_count": null,
      "outputs": [
        {
          "output_type": "stream",
          "name": "stdout",
          "text": [
            "R_SQUARE:  -1.9629873316342978\n",
            "MAE:  172863.31583205622\n",
            "MSE:  37271449033.73825\n",
            "RMSE:  193058.14935852424\n"
          ]
        }
      ]
    },
    {
      "cell_type": "code",
      "source": [
        "#ridge\n",
        "r_square_ridge_experiment3 = r2_score(y3_test , y_ridge_experiment3)\n",
        "print('R_SQUARE: ' , r_square_ridge_experiment3)\n",
        "mae_ridge_experiment3 = mean_absolute_error(y3_test , y_ridge_experiment3)\n",
        "print('MAE: ', mae_ridge_experiment3)\n",
        "mse_ridge_experiment3 = mean_squared_error(y3_test , y_ridge_experiment3)\n",
        "print('MSE: ' , mse_ridge_experiment3)\n",
        "rmse_ridge_experiment3 = mse_ridge_experiment3 ** 0.5\n",
        "print('RMSE: ' , rmse_ridge_experiment3)"
      ],
      "metadata": {
        "colab": {
          "base_uri": "https://localhost:8080/"
        },
        "id": "-J9StSmGCGuy",
        "outputId": "a71bf4d0-b298-4376-bd76-ea20de270b51"
      },
      "execution_count": null,
      "outputs": [
        {
          "output_type": "stream",
          "name": "stdout",
          "text": [
            "R_SQUARE:  -1.9933938145998837\n",
            "MAE:  174278.30749511896\n",
            "MSE:  37653932505.08066\n",
            "RMSE:  194046.21229253782\n"
          ]
        }
      ]
    },
    {
      "cell_type": "markdown",
      "source": [
        "##df_experiment4"
      ],
      "metadata": {
        "id": "UQ1qMWCa7R5Z"
      }
    },
    {
      "cell_type": "code",
      "source": [
        "pca_experiment4 =  PCA(n_components= 3) #pusimos que haya 3 componentes\n",
        "pca_experiment4.fit(X4_train)"
      ],
      "metadata": {
        "colab": {
          "base_uri": "https://localhost:8080/"
        },
        "id": "jrgmA8dV7jj2",
        "outputId": "fcea7beb-d603-4f2a-f66b-40205b501905"
      },
      "execution_count": null,
      "outputs": [
        {
          "output_type": "execute_result",
          "data": {
            "text/plain": [
              "PCA(n_components=3)"
            ]
          },
          "metadata": {},
          "execution_count": 145
        }
      ]
    },
    {
      "cell_type": "code",
      "source": [
        "#Variables X4train y X4test también estarán con efecto del PCA\n",
        "pca_X4_train = pca_experiment.transform(X4_train)\n",
        "pca_X4_test = pca_experiment.transform(X4_test)"
      ],
      "metadata": {
        "id": "SPBzXXOM7uq-"
      },
      "execution_count": null,
      "outputs": []
    },
    {
      "cell_type": "code",
      "source": [
        "regresion_lineal_experiment4 = LinearRegression().fit(pca_X4_train, y4_train) #Regresión Lineal\n",
        "lasso_experiment4 = Lasso(alpha=0.02, random_state = 80 ).fit(pca_X4_train, y4_train) #Lasso\n",
        "ridge_experiment4 = Ridge(random_state = 80).fit(pca_X4_train, y4_train) #Ridge"
      ],
      "metadata": {
        "colab": {
          "base_uri": "https://localhost:8080/"
        },
        "id": "AoUoOuHz71rz",
        "outputId": "b87a781f-5251-423a-f2b5-2996a635e191"
      },
      "execution_count": null,
      "outputs": [
        {
          "output_type": "stream",
          "name": "stderr",
          "text": [
            "/usr/local/lib/python3.7/dist-packages/sklearn/linear_model/_coordinate_descent.py:648: ConvergenceWarning: Objective did not converge. You might want to increase the number of iterations, check the scale of the features or consider increasing regularisation. Duality gap: 9.932e+13, tolerance: 2.206e+10\n",
            "  coef_, l1_reg, l2_reg, X, y, max_iter, tol, rng, random, positive\n"
          ]
        }
      ]
    },
    {
      "cell_type": "code",
      "source": [
        "y_lineal_experiment4 = regresion_lineal_experiment.predict(pca_X4_test)\n",
        "y_lasso_experiment4 =  lasso_experiment.predict(pca_X4_test)\n",
        "y_ridge_experiment4 =  ridge_experiment.predict(pca_X4_test)"
      ],
      "metadata": {
        "id": "QAl_jmHK75_B"
      },
      "execution_count": null,
      "outputs": []
    },
    {
      "cell_type": "code",
      "source": [
        "#regresión lineal\n",
        "r_square_lineal_experiment4 = r2_score(y4_test , y_lineal_experiment4)\n",
        "print('R_SQUARE: ' , r_square_lineal_experiment4)\n",
        "mae_lineal_experiment4 = mean_absolute_error(y4_test , y_lineal_experiment4)\n",
        "print('MAE: ', mae_lineal_experiment4)\n",
        "mse_lineal_experiment4 = mean_squared_error(y4_test , y_lineal_experiment4)\n",
        "print('MSE: ' , mse_lineal_experiment4)\n",
        "rmse_lineal_experiment4 = mse_lineal_experiment4 ** 0.5\n",
        "print('RMSE: ' , rmse_lineal_experiment4)"
      ],
      "metadata": {
        "colab": {
          "base_uri": "https://localhost:8080/"
        },
        "id": "CLwAI_XM775z",
        "outputId": "5cb950b5-2f65-4873-c5e1-059fc8d19d8b"
      },
      "execution_count": null,
      "outputs": [
        {
          "output_type": "stream",
          "name": "stdout",
          "text": [
            "R_SQUARE:  -7242.462858954942\n",
            "MAE:  6224817.107056249\n",
            "MSE:  95024507529526.5\n",
            "RMSE:  9748051.47347543\n"
          ]
        }
      ]
    },
    {
      "cell_type": "code",
      "source": [
        "#lasso\n",
        "r_square_lasso_experiment4 = r2_score(y4_test , y_lasso_experiment4)\n",
        "print('R_SQUARE: ' , r_square_lasso_experiment4)\n",
        "mae_lasso_experiment4 = mean_absolute_error(y4_test , y_lasso_experiment4)\n",
        "print('MAE: ', mae_lasso_experiment4)\n",
        "mse_lasso_experiment4 = mean_squared_error(y4_test , y_lasso_experiment4)\n",
        "print('MSE: ' , mse_lasso_experiment4)\n",
        "rmse_lasso_experiment4 = mse_lasso_experiment4 ** 0.5\n",
        "print('RMSE: ' , rmse_lasso_experiment4)"
      ],
      "metadata": {
        "colab": {
          "base_uri": "https://localhost:8080/"
        },
        "id": "pNDEstEZ78Az",
        "outputId": "9dea5442-ab98-47b4-da62-9f50a2a766c9"
      },
      "execution_count": null,
      "outputs": [
        {
          "output_type": "stream",
          "name": "stdout",
          "text": [
            "R_SQUARE:  -7242.44007387678\n",
            "MAE:  6224806.1692383485\n",
            "MSE:  95024208619892.6\n",
            "RMSE:  9748036.141700163\n"
          ]
        }
      ]
    },
    {
      "cell_type": "code",
      "source": [
        "#ridge\n",
        "r_square_ridge_experiment4= r2_score(y4_test , y_ridge_experiment4)\n",
        "print('R_SQUARE: ' , r_square_ridge_experiment4)\n",
        "mae_ridge_experiment4 = mean_absolute_error(y4_test , y_ridge_experiment4)\n",
        "print('MAE: ', mae_ridge_experiment4)\n",
        "mse_ridge_experiment4 = mean_squared_error(y4_test , y_ridge_experiment4)\n",
        "print('MSE: ' , mse_ridge_experiment4)\n",
        "rmse_ridge_experiment4 = mse_ridge_experiment4 ** 0.5\n",
        "print('RMSE: ' , rmse_ridge_experiment4)"
      ],
      "metadata": {
        "colab": {
          "base_uri": "https://localhost:8080/"
        },
        "id": "YZWZU8DD78Jh",
        "outputId": "cbd10c6e-d9a1-4af7-8752-fa4f944bed32"
      },
      "execution_count": null,
      "outputs": [
        {
          "output_type": "stream",
          "name": "stdout",
          "text": [
            "R_SQUARE:  -7242.1694896481395\n",
            "MAE:  6224724.293999512\n",
            "MSE:  95020658918103.19\n",
            "RMSE:  9747854.067337241\n"
          ]
        }
      ]
    }
  ]
}